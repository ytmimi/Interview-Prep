{
 "cells": [
  {
   "cell_type": "code",
   "execution_count": 41,
   "metadata": {},
   "outputs": [],
   "source": [
    "class BinaryNode:\n",
    "    def __init__(self, data, left=None, right=None):\n",
    "        self.data = data\n",
    "        self.right = right\n",
    "        self.left = left\n",
    "    "
   ]
  },
  {
   "cell_type": "code",
   "execution_count": 44,
   "metadata": {},
   "outputs": [],
   "source": [
    "def visit(node):\n",
    "    print(node.data)\n",
    "\n",
    "def in_order_traversal(node):\n",
    "    if node != None:\n",
    "        in_order_traversal(node.left)\n",
    "        visit(node)\n",
    "        in_order_traversal(node.right)\n",
    "\n",
    "\n",
    "def pre_order_traversal(node):\n",
    "    if node != None:\n",
    "        visit(node)\n",
    "        pre_order_traversal(node.left)\n",
    "        pre_order_traversal(node.right)\n",
    "\n",
    "\n",
    "def post_order_traversal(node):\n",
    "    if node != None:\n",
    "        post_order_traversal(node.left)\n",
    "        post_order_traversal(node.right)\n",
    "        vist(node)\n",
    "        "
   ]
  },
  {
   "cell_type": "code",
   "execution_count": null,
   "metadata": {},
   "outputs": [],
   "source": []
  }
 ],
 "metadata": {
  "kernelspec": {
   "display_name": "Python 3",
   "language": "python",
   "name": "python3"
  },
  "language_info": {
   "codemirror_mode": {
    "name": "ipython",
    "version": 3
   },
   "file_extension": ".py",
   "mimetype": "text/x-python",
   "name": "python",
   "nbconvert_exporter": "python",
   "pygments_lexer": "ipython3",
   "version": "3.6.4"
  }
 },
 "nbformat": 4,
 "nbformat_minor": 2
}
