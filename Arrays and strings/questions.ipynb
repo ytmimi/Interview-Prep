{
 "cells": [
  {
   "cell_type": "markdown",
   "metadata": {},
   "source": [
    "### Is Unique\n",
    "implement an algorithm to determin if a string has all unique characters what if you can't use additional data structures"
   ]
  },
  {
   "cell_type": "code",
   "execution_count": null,
   "metadata": {},
   "outputs": [],
   "source": [
    "def is_unique():\n",
    "    pass"
   ]
  },
  {
   "cell_type": "markdown",
   "metadata": {},
   "source": []
  },
  {
   "cell_type": "markdown",
   "metadata": {},
   "source": [
    "### Check Permutation\n",
    "Given two strings, write a method to decide if one is a permutation of the other"
   ]
  },
  {
   "cell_type": "code",
   "execution_count": null,
   "metadata": {},
   "outputs": [],
   "source": [
    "def check_permutation():\n",
    "    pass"
   ]
  },
  {
   "cell_type": "code",
   "execution_count": null,
   "metadata": {},
   "outputs": [],
   "source": []
  },
  {
   "cell_type": "markdown",
   "metadata": {},
   "source": [
    "### String Compression:\n",
    "implement a method to perform basic string compression using the counts of repeated characters. For example, the string aabbcccccaaa would become a2b1c5a3. If the \"compressed\" string would not become smaller than the original string, your method should return the original string. You can assume the string has only uppercase and losercase letters (a-z)"
   ]
  },
  {
   "cell_type": "code",
   "execution_count": null,
   "metadata": {},
   "outputs": [],
   "source": [
    "def compression():\n",
    "    pass"
   ]
  },
  {
   "cell_type": "code",
   "execution_count": null,
   "metadata": {},
   "outputs": [],
   "source": []
  },
  {
   "cell_type": "markdown",
   "metadata": {},
   "source": [
    "### Zero Matrix:\n",
    "Write an algorithm such that if an element in an MxN matrix is 0, its entire row and columm are set to 0."
   ]
  },
  {
   "cell_type": "code",
   "execution_count": 44,
   "metadata": {},
   "outputs": [],
   "source": [
    "def zero_matrix(matrix):\n",
    "    row_len = len(matrix[0]) #M\n",
    "    col_len = len(matrix) #N\n",
    "    \n",
    "    coordinates = []\n",
    "    \n",
    "    for row in range(row_len):\n",
    "        for col in range(col_len):\n",
    "            if matrix[row][col] == 0:\n",
    "                coordinates.append((row, col))\n",
    "                \n",
    "    for row, col in coordinates:\n",
    "        matrix[row] = [0] * row_len\n",
    "        for row_idx in range(col_len):\n",
    "            matrix[row_idx][col] = 0\n",
    "                \n",
    "    return matrix\n",
    "\n",
    "def print_matrix(matrix):\n",
    "    for item in matrix:\n",
    "        print(item)\n",
    "    "
   ]
  },
  {
   "cell_type": "code",
   "execution_count": 45,
   "metadata": {},
   "outputs": [
    {
     "name": "stdout",
     "output_type": "stream",
     "text": [
      "[1, 0, 3]\n",
      "[0, 0, 0]\n",
      "[2, 0, 3]\n"
     ]
    }
   ],
   "source": [
    "print_matrix(zero_matrix([[1, 2, 3], [1,0,1], [2,3,3]]))"
   ]
  },
  {
   "cell_type": "markdown",
   "metadata": {},
   "source": [
    "### Rotate Matrix:\n",
    "Given an image represented by an NxN matrix, where each pixel in the image is 4 bytes, write a method to rotate the image by 90 degreees. Can you do this in place?\n",
    "\n",
    "note: lets skip the whole 4 bytes thing and just assume a matrix of numbers\n",
    "    "
   ]
  },
  {
   "cell_type": "code",
   "execution_count": null,
   "metadata": {},
   "outputs": [],
   "source": [
    "def rotate_matrix():\n",
    "    pass"
   ]
  },
  {
   "cell_type": "code",
   "execution_count": null,
   "metadata": {},
   "outputs": [],
   "source": []
  },
  {
   "cell_type": "code",
   "execution_count": null,
   "metadata": {},
   "outputs": [],
   "source": []
  },
  {
   "cell_type": "code",
   "execution_count": 11,
   "metadata": {},
   "outputs": [],
   "source": [
    "import datetime as dt"
   ]
  },
  {
   "cell_type": "code",
   "execution_count": 18,
   "metadata": {},
   "outputs": [],
   "source": [
    "def timer(f):\n",
    "    def wrapper(*args, **kwargs):\n",
    "        start = dt.datetime.now()\n",
    "        value = f(*args, **kwargs)\n",
    "        end = dt.datetime.now()\n",
    "        print(f'took this long to: {end-start}')\n",
    "        return value\n",
    "    return wrapper"
   ]
  },
  {
   "cell_type": "code",
   "execution_count": 22,
   "metadata": {},
   "outputs": [],
   "source": [
    "# @timer\n",
    "def add(x, y):\n",
    "    return x + y"
   ]
  },
  {
   "cell_type": "code",
   "execution_count": 25,
   "metadata": {},
   "outputs": [
    {
     "name": "stdout",
     "output_type": "stream",
     "text": [
      "145 ns ± 22.9 ns per loop (mean ± std. dev. of 7 runs, 10000000 loops each)\n"
     ]
    }
   ],
   "source": [
    "%timeit add(1,2)"
   ]
  },
  {
   "cell_type": "markdown",
   "metadata": {},
   "source": [
    "### !!!!!!!"
   ]
  },
  {
   "cell_type": "markdown",
   "metadata": {},
   "source": [
    "### The Dutch National Flag:\n",
    "The quicksort algorith for sorting arrays proceeds recursively--it selects and element(the \"pivot\"), reorders the array to make all the elements less than or equal to the pivot appear first, followed by all the elements great than the pivot. the two subarrays are then sorted recursively. One solution is to reorder the array so taht all elements less than the pivot appear first, followed by elements equal to the pivot, followed by elements greater than the pivot. This is known as dutch national flag partitioning because the dutch national flag consists of three horizontal bands, each in a different color.\n",
    "\n",
    "Write a program that takes an array A and an index i into A, and rearranges the elements such that all elements less than A[i] appear first, followed by elements equal to the pivot, followed by elements great than the pivot:\n"
   ]
  },
  {
   "cell_type": "code",
   "execution_count": 29,
   "metadata": {},
   "outputs": [],
   "source": [
    "def quick_sort(array, index):\n",
    "    pivot = array[index]\n",
    "    less_than = []\n",
    "    equal_to = []\n",
    "    greater_than = []\n",
    "    \n",
    "    for item in array:\n",
    "        if item < pivot:\n",
    "            less_than.append(item)\n",
    "        \n",
    "        if item == pivot:\n",
    "            equal_to.append(item)\n",
    "        \n",
    "        if item > pivot:\n",
    "            greater_than.append(item)\n",
    "    \n",
    "    return less_than, equal_to, greater_than\n",
    "    "
   ]
  },
  {
   "cell_type": "code",
   "execution_count": 30,
   "metadata": {},
   "outputs": [
    {
     "data": {
      "text/plain": [
       "([1, 2, 3, 2, 3, 1, 4], [5, 5], [6, 8])"
      ]
     },
     "execution_count": 30,
     "metadata": {},
     "output_type": "execute_result"
    }
   ],
   "source": [
    "quick_sort([1,2,3,5,6,5,2,3,1,4,8], 3)"
   ]
  },
  {
   "cell_type": "code",
   "execution_count": null,
   "metadata": {},
   "outputs": [],
   "source": []
  },
  {
   "cell_type": "code",
   "execution_count": null,
   "metadata": {},
   "outputs": [],
   "source": [
    "def dutch_national_flag(A, pivot_index):\n",
    "    pivot = A[pivot_index]\n",
    "    #first pass: group elements smaller than element:\n",
    "    for i, item_i enumerate(A):\n",
    "        for j , item_j enumera(A[i+1:])\n",
    "            if item_i < item_j:\n",
    "                A[i]"
   ]
  },
  {
   "cell_type": "code",
   "execution_count": null,
   "metadata": {},
   "outputs": [],
   "source": []
  },
  {
   "cell_type": "code",
   "execution_count": 126,
   "metadata": {},
   "outputs": [],
   "source": [
    "def print_snake(string):\n",
    "    matrix = []\n",
    "    positions = [1, 0, 1, 2]\n",
    "    for i in range(3):\n",
    "        matrix.append( [' '] * len(string))\n",
    "        \n",
    "    for index, item in enumerate(string):\n",
    "        i = index % len(positions)\n",
    "        matrix[positions[i]][index] = item\n",
    "\n",
    "        \n",
    "    for row in matrix:\n",
    "        for item in row: \n",
    "            print(item, end=' ')\n",
    "        print('\\n')"
   ]
  },
  {
   "cell_type": "code",
   "execution_count": 127,
   "metadata": {},
   "outputs": [
    {
     "name": "stdout",
     "output_type": "stream",
     "text": [
      "  e       _       l   \n",
      "\n",
      "h   l   o   w   r   d \n",
      "\n",
      "      l       o       \n",
      "\n"
     ]
    }
   ],
   "source": [
    "print_snake('hello_world')"
   ]
  },
  {
   "cell_type": "code",
   "execution_count": null,
   "metadata": {},
   "outputs": [],
   "source": []
  }
 ],
 "metadata": {
  "kernelspec": {
   "display_name": "Python 3",
   "language": "python",
   "name": "python3"
  },
  "language_info": {
   "codemirror_mode": {
    "name": "ipython",
    "version": 3
   },
   "file_extension": ".py",
   "mimetype": "text/x-python",
   "name": "python",
   "nbconvert_exporter": "python",
   "pygments_lexer": "ipython3",
   "version": "3.6.4"
  }
 },
 "nbformat": 4,
 "nbformat_minor": 2
}
