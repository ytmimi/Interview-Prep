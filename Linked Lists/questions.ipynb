{
 "cells": [
  {
   "cell_type": "code",
   "execution_count": 27,
   "metadata": {},
   "outputs": [],
   "source": [
    "class Node:\n",
    "    def __init__(self, val, _next=None):\n",
    "        self.val = val\n",
    "        self._next = _next\n",
    "    \n",
    "    def __repr__(self):\n",
    "        return str(self.val)\n",
    "\n",
    "        \n",
    "class LinkList:\n",
    "    def __init__(self, head):\n",
    "        self.head = head\n",
    "    \n",
    "    def __repr__(self):\n",
    "        return str([node for node in self.__iter__()])\n",
    "    \n",
    "    def __iter__(self):\n",
    "        node = self.head\n",
    "        while node:\n",
    "            yield node\n",
    "            node = node._next\n",
    "    \n",
    "    def append(self, node):\n",
    "        last_node = [node for node in self.__iter__()][-1]\n",
    "        last_node._next = node\n",
    "        \n",
    "        \n",
    "        \n",
    "            \n",
    "            "
   ]
  },
  {
   "cell_type": "code",
   "execution_count": 28,
   "metadata": {},
   "outputs": [],
   "source": [
    "a = Node(10)\n",
    "b = Node(12, a)\n",
    "l_list = LinkList(b)"
   ]
  },
  {
   "cell_type": "code",
   "execution_count": 29,
   "metadata": {},
   "outputs": [
    {
     "name": "stdout",
     "output_type": "stream",
     "text": [
      "12\n",
      "10\n"
     ]
    }
   ],
   "source": [
    "for i in l_list:\n",
    "    print(i)"
   ]
  },
  {
   "cell_type": "code",
   "execution_count": 30,
   "metadata": {},
   "outputs": [
    {
     "data": {
      "text/plain": [
       "[12, 10, 20]"
      ]
     },
     "execution_count": 30,
     "metadata": {},
     "output_type": "execute_result"
    }
   ],
   "source": [
    "c = Node(20)\n",
    "l_list.append(c)\n",
    "l_list"
   ]
  },
  {
   "cell_type": "markdown",
   "metadata": {},
   "source": [
    "Sunset problem"
   ]
  },
  {
   "cell_type": "code",
   "execution_count": 80,
   "metadata": {},
   "outputs": [],
   "source": [
    "class Stack:\n",
    "    def __init__(self):\n",
    "        self.values = []\n",
    "    \n",
    "    def __repr__(self):\n",
    "        return str(self.values)\n",
    "    \n",
    "    def __str__(self):\n",
    "        return str(self.values)\n",
    "    \n",
    "    def pop(self):\n",
    "        '''Remove and return the last element'''\n",
    "        if not self.is_empty():\n",
    "            return self.values.pop()\n",
    "        return \n",
    "    \n",
    "    def push(self, value):\n",
    "        '''Adds items to the end of the stack'''\n",
    "        self.values.append(value)\n",
    "    \n",
    "    def peek(self):\n",
    "        '''Return the value of the last element'''\n",
    "        if not self.is_empty():\n",
    "            return self.values[-1]\n",
    "    \n",
    "    def is_empty(self):\n",
    "        '''Checks if there are items on the stack'''\n",
    "        return len(self.values) == 0\n",
    "    \n",
    "    def __add__(self, other):\n",
    "        return self.values + other.values\n",
    "    \n",
    "    def __reversed__(self):\n",
    "        return reversed(self.values) \n",
    "        \n",
    "    \n",
    "        \n",
    "        \n",
    "def see_the_sunset(stack):\n",
    "    s = Stack()\n",
    "    l = Stack()\n",
    "    \n",
    "    \n",
    "    while not stack.is_empty():\n",
    "        east = stack.pop()\n",
    "        west = stack.peek()\n",
    "        if(west == None) or ( east > west):\n",
    "            s.push(east)\n",
    "    \n",
    "    l.push(s.pop())\n",
    "    \n",
    "    while not s.is_empty():\n",
    "        west = l.peek()\n",
    "        east = s.pop()\n",
    "        if east > west:\n",
    "            l.push(east)\n",
    "    \n",
    "    return l"
   ]
  },
  {
   "cell_type": "code",
   "execution_count": 81,
   "metadata": {},
   "outputs": [
    {
     "data": {
      "text/plain": [
       "[11]"
      ]
     },
     "execution_count": 81,
     "metadata": {},
     "output_type": "execute_result"
    }
   ],
   "source": [
    "stack = Stack()\n",
    "stack.values = [11, 2, 5, 7, 2, 9, 5]\n",
    "see_the_sunset(stack)"
   ]
  },
  {
   "cell_type": "markdown",
   "metadata": {},
   "source": [
    "Queue via Stack"
   ]
  },
  {
   "cell_type": "code",
   "execution_count": 94,
   "metadata": {},
   "outputs": [],
   "source": [
    "class MyQueue:\n",
    "    def __init__(self):\n",
    "        self.queue = Stack()\n",
    "        self.place_holder = Stack()\n",
    "    \n",
    "    def __repr__(self):\n",
    "        if self.is_empty():\n",
    "            return f'{self.queue + self.place_holder}'\n",
    "        \n",
    "        elif self.queue.is_empty() and not self.place_holder.is_empty():\n",
    "            return f'{self.queue + list(reversed(self.place_holder))}'\n",
    "        \n",
    "        else:\n",
    "            return f'{self.queue + self.place_holder}'\n",
    "        \n",
    "    \n",
    "    def add(self, item):\n",
    "        '''Add an item to the end of the list'''\n",
    "        if self.place_holder.is_empty():\n",
    "            self.place_holder.push(item)\n",
    "        else:\n",
    "            while not self.place_holder.is_empty():\n",
    "                self.queue.push(self.place_holder.pop())\n",
    "            self.place_holder.push(item)\n",
    "    \n",
    "    \n",
    "    def remove(self):\n",
    "        '''Remove and return the first item in the list'''\n",
    "        #check that the queue is not empty\n",
    "        if not self.queue.is_empty():\n",
    "            while not self.queue.is_empty():\n",
    "                self.place_holder.push(self.queue.pop())\n",
    "            return self.place_holder.pop()\n",
    "        #try and return an item from the place_holder stack\n",
    "        else:\n",
    "            return self.place_holder.pop() #None if empty\n",
    "            \n",
    "            \n",
    "    def peek(self):\n",
    "        '''Return the first item in the list'''\n",
    "        #check that the queue is not empty\n",
    "        if not self.queue.is_empty():\n",
    "            while not self.queue.is_empty():\n",
    "                self.place_holder.push(self.queue.pop())\n",
    "            return self.place_holder.peek()\n",
    "        #try and return an item from the place_holder stack\n",
    "        else:\n",
    "            return self.place_holder.peek() #None if empty\n",
    "    \n",
    "    def is_empty(self):\n",
    "        return self.queue.is_empty() and self.place_holder.is_empty()\n",
    "    "
   ]
  },
  {
   "cell_type": "code",
   "execution_count": null,
   "metadata": {},
   "outputs": [],
   "source": []
  },
  {
   "cell_type": "code",
   "execution_count": 95,
   "metadata": {},
   "outputs": [
    {
     "data": {
      "text/plain": [
       "[8, 11, 15]"
      ]
     },
     "execution_count": 95,
     "metadata": {},
     "output_type": "execute_result"
    }
   ],
   "source": [
    "my_queue = MyQueue()\n",
    "my_queue.add(5)\n",
    "my_queue.add(7)\n",
    "my_queue.add(8)\n",
    "my_queue.add(11)\n",
    "my_queue.remove()\n",
    "my_queue.remove()\n",
    "my_queue.add(15)\n",
    "my_queue"
   ]
  },
  {
   "cell_type": "code",
   "execution_count": null,
   "metadata": {},
   "outputs": [],
   "source": []
  },
  {
   "cell_type": "code",
   "execution_count": null,
   "metadata": {},
   "outputs": [],
   "source": [
    "\"{,},(),[,]\""
   ]
  },
  {
   "cell_type": "code",
   "execution_count": 99,
   "metadata": {},
   "outputs": [],
   "source": [
    "def matches(char1, char2):\n",
    "    if char1 == '{' and char2 =='}':\n",
    "        return True\n",
    "    if char1 == '(' and char2 == ')':\n",
    "        return True\n",
    "    if char1 == '[' and char2 == ']':\n",
    "        return True\n",
    "    return False\n",
    "    \n",
    "\n",
    "\n",
    "def is_well_formed(some_str):\n",
    "    s = Stack()\n",
    "    for char in some_str:\n",
    "        if char in ['{', '[', '(']:\n",
    "            s.push(char)\n",
    "        elif char in ['}', ']', ')']:\n",
    "            if matches(s.peek(), char):\n",
    "                s.pop()\n",
    "    return s.is_empty()"
   ]
  },
  {
   "cell_type": "code",
   "execution_count": 106,
   "metadata": {},
   "outputs": [
    {
     "data": {
      "text/plain": [
       "True"
      ]
     },
     "execution_count": 106,
     "metadata": {},
     "output_type": "execute_result"
    }
   ],
   "source": [
    "is_well_formed('[(){}]')"
   ]
  },
  {
   "cell_type": "code",
   "execution_count": null,
   "metadata": {},
   "outputs": [],
   "source": []
  }
 ],
 "metadata": {
  "kernelspec": {
   "display_name": "Python 3",
   "language": "python",
   "name": "python3"
  },
  "language_info": {
   "codemirror_mode": {
    "name": "ipython",
    "version": 3
   },
   "file_extension": ".py",
   "mimetype": "text/x-python",
   "name": "python",
   "nbconvert_exporter": "python",
   "pygments_lexer": "ipython3",
   "version": "3.6.4"
  }
 },
 "nbformat": 4,
 "nbformat_minor": 2
}
